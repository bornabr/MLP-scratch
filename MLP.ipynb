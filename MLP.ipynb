{
 "cells": [
  {
   "cell_type": "markdown",
   "metadata": {},
   "source": [
    "# MLP from scratch\n",
    "Here we have implemented a Multilayer Perceptron Neural Network. Our implementation enables us to create networks that accept inputs and outputs of various lengths. Also, it could contain a different number of hidden layers with varying activation functions."
   ]
  },
  {
   "cell_type": "markdown",
   "metadata": {},
   "source": [
    "## Layer Implementation\n",
    "Two main parts of each layer's computation are forward and backward computations. Forward one is for calculating the output of the layer based on its input and parameters. The backward method is for updating the parameters based on the layer's input, output, and expected output. The backward function updates the layer's parameters based on the error of the output."
   ]
  },
  {
   "cell_type": "code",
   "execution_count": 32,
   "metadata": {},
   "outputs": [],
   "source": [
    "import numpy as np\n",
    "from sklearn.preprocessing import OneHotEncoder\n",
    "from sklearn.preprocessing import MinMaxScaler\n",
    "from sklearn.preprocessing import Normalizer\n",
    "from sklearn.metrics import accuracy_score\n",
    "import matplotlib.pyplot as plt\n",
    "\n",
    "class Layer:\n",
    "\tdef __init__(self, shape, activation_function='ReLU', is_output_layer=False):\n",
    "\t\tself.shape = shape\n",
    "\t\tself.weights = np.random.normal(size=self.shape)\n",
    "\t\tself.biases = np.zeros(self.shape[1])\n",
    "\t\tself.activation_function = activation_function\n",
    "\t\tself.is_output_layer = is_output_layer\n",
    "\n",
    "\tdef forward(self, input_):\n",
    "\t\tself.input = input_\n",
    "\t\tself.output = self.activate(np.dot(input_, self.weights) + self.biases)\n",
    "\t\treturn self.output\n",
    "\n",
    "\tdef backward(self, learning_rate, y):\n",
    "\t\tif self.is_output_layer:\n",
    "\t\t\tE = self.output - y\n",
    "\t\telse:\n",
    "\t\t\tE = y\n",
    "\t\t\n",
    "\t\td_output = E * self.derivative_activate(self.output)\n",
    "\t\t\n",
    "\t\tgrad_weights = np.dot(self.input.T, d_output)\n",
    "\t\tgrad_biases = np.sum(d_output, axis=0)\n",
    "\t\t\n",
    "\t\tself.weights = self.weights - learning_rate * grad_weights\n",
    "\t\tself.biases = self.biases - learning_rate * grad_biases\n",
    "\n",
    "\t\treturn np.dot(d_output, self.weights.T)\n",
    "\n",
    "\tdef activate(self, input_):\n",
    "\t\tif self.activation_function == 'ReLU':\n",
    "\t\t\treturn np.maximum(0, input_)\n",
    "\t\telif self.activation_function == 'sigmoid':\n",
    "\t\t\treturn 1./(1.+np.exp(-input_))\n",
    "\t\telif self.activation_function == 'tanh':\n",
    "\t\t\treturn np.tanh(input_)\n",
    "\t\telse:\n",
    "\t\t\traise 'activation function not defined'\n",
    "\n",
    "\tdef derivative_activate(self, input_):\n",
    "\t\tif self.activation_function == 'ReLU':\n",
    "\t\t\treturn (input_ > 0) * 1\n",
    "\t\telif self.activation_function == 'sigmoid':\n",
    "\t\t\treturn self.activate(input_) * (1-self.activate(input_))\n",
    "\t\telif self.activation_function == 'tanh':\n",
    "\t\t\treturn 1/(np.cosh(input_)**2)\n",
    "\t\telse:\n",
    "\t\t\traise 'activation function not defined'\n"
   ]
  },
  {
   "cell_type": "code",
   "execution_count": 33,
   "metadata": {},
   "outputs": [],
   "source": [
    "\n",
    "class Model:\n",
    "\tdef __init__(self, layers=[]):\n",
    "\t\tself.network = []\n",
    "\t\tif layers:\n",
    "\t\t\tfor shape in layers[:-1]:\n",
    "\t\t\t\tself.add_layer(shape, activation_function='ReLU')\n",
    "\t\t\tself.add_layer(layers[-1], activation_function='sigmoid',\n",
    "\t\t\t               is_output_layer=True)\n",
    "\n",
    "\tdef add_layer(self, shape, activation_function='ReLU', is_output_layer=False):\n",
    "\t\tself.network.append(Layer(shape, activation_function, is_output_layer))\n",
    "\n",
    "\tdef forward(self, input_):\n",
    "\t\tfor layer in self.network:\n",
    "\t\t\tinput_ = layer.forward(input_)\n",
    "\t\treturn input_\n",
    "\n",
    "\tdef backward(self, learning_rate, expected_output):\n",
    "\t\tfor layer in reversed(self.network):\n",
    "\t\t\texpected_output = layer.backward(learning_rate, expected_output)\n",
    "\n",
    "\t\treturn expected_output\n",
    "\n",
    "\tdef fit(self, input_, output, n_epoch, learning_rate):\n",
    "\t\tfor epoch in range(n_epoch):\n",
    "\t\t\tif epoch % 100 == 0 or epoch == n_epoch - 1:\n",
    "\t\t\t\tprint(\"epoch:\", str(epoch + 1) + '/' + str(n_epoch))\n",
    "\t\t\tself.forward(input_)\n",
    "\t\t\tself.backward(learning_rate, output)\n",
    "\n",
    "\tdef predict(self, X, Y, show_function=None):\n",
    "\t\tY_pred = self.forward(X).argmax(1)\n",
    "\t\tscore = 0\n",
    "\t\t\n",
    "\t\tfor y, y_pred in zip(Y, Y_pred):\n",
    "\t\t\tif abs(y - y_pred) <= 0.5:\n",
    "\t\t\t\tscore += 1\n",
    "\t\t\n",
    "\t\tif show_function is not None:\n",
    "\t\t\tshow_function(X, Y, Y_pred)\n",
    "\t\n",
    "\t\treturn score/len(X)\n",
    "\n",
    "\tdef __str__(self):\n",
    "\t\tresult = \"***************\\n\"\n",
    "\t\tfor layer in self.network:\n",
    "\t\t\tresult += str(layer.shape) + ':\\t' + layer.activation_function + '\\n'\n",
    "\t\t\tresult += \"***************\\n\"\n",
    "\t\treturn result\n"
   ]
  },
  {
   "cell_type": "code",
   "execution_count": 34,
   "metadata": {},
   "outputs": [],
   "source": [
    "def show_function(X, Y, Y_pred):\n",
    "\ttrue_ones = []\n",
    "\ttrue_zeros = []\n",
    "\tfalse_ones = []\n",
    "\tfalse_zeros = []\n",
    "\t\n",
    "\tfor x, y, y_pred in zip(X, Y, Y_pred):\n",
    "\t\tif y:\n",
    "\t\t\tif y_pred:\n",
    "\t\t\t\ttrue_ones.append(x)\n",
    "\t\t\telse:\n",
    "\t\t\t\tfalse_zeros.append(x)\n",
    "\t\telse:\n",
    "\t\t\tif y_pred:\n",
    "\t\t\t\tfalse_ones.append(x)\n",
    "\t\t\telse:\n",
    "\t\t\t\ttrue_zeros.append(x)\n",
    "\t\n",
    "\ttrue_ones = np.reshape(true_ones, [len(true_ones), 2])\n",
    "\ttrue_zeros = np.reshape(true_zeros, [len(true_zeros), 2])\n",
    "\tfalse_ones = np.reshape(false_ones, [len(false_ones), 2])\n",
    "\tfalse_zeros = np.reshape(false_zeros, [len(false_zeros), 2])\n",
    "\n",
    "\tplt.scatter(true_ones[:, 0], true_ones[:, 1], color='darkgreen')\n",
    "\tplt.scatter(true_zeros[:, 0], true_zeros[:, 1], color='lightgreen')\n",
    "\tplt.scatter(false_ones[:, 0], false_ones[:, 1], color='darkred')\n",
    "\tplt.scatter(false_zeros[:, 0], false_zeros[:, 1], color='lightcoral')\n",
    "\t\n"
   ]
  },
  {
   "cell_type": "markdown",
   "metadata": {},
   "source": [
    "## Test\n",
    "Here we have loaded our train and test dataset. Due to the small size of our dataset, there was no need for mini-batches. Also, I tried several pre-processing methods, but none of them improved my accuracy. Noe that I have transformed my output to one-hot encoding."
   ]
  },
  {
   "cell_type": "code",
   "execution_count": 35,
   "metadata": {},
   "outputs": [],
   "source": [
    "train = np.loadtxt('dataset/train')\n",
    "test = np.loadtxt('dataset/test')\n",
    "\n",
    "train_X = train[:, :-1]\n",
    "train_y = np.reshape(train[:, -1], (len(train), 1))\n",
    "train_y_onehot = np.array([[0, 1] if x else [1, 0] for x in train_y])\n",
    "\n",
    "test_X = test[:, :-1]\n",
    "test_y = np.reshape(test[:, -1], (len(test), 1))\n",
    "test_y_onehot = np.array([[0, 1] if x else [1, 0] for x in test_y])\n",
    "\n",
    "\n",
    "# transformer = MinMaxScaler()\n",
    "# transformer = Normalizer()\n",
    "\n",
    "# train_X = transformer.fit_transform(train_X)\n",
    "# test_X = transformer.transform(test_X)\n"
   ]
  },
  {
   "cell_type": "markdown",
   "metadata": {},
   "source": [
    "For this test case, I used a model with three hidden layers of size 8 with the `ReLU` activation function. My output has a `sigmoid` activation function."
   ]
  },
  {
   "cell_type": "code",
   "execution_count": 36,
   "metadata": {},
   "outputs": [
    {
     "name": "stdout",
     "output_type": "stream",
     "text": [
      "epoch: 1/1000\n",
      "epoch: 101/1000\n",
      "epoch: 201/1000\n",
      "epoch: 301/1000\n",
      "epoch: 401/1000\n",
      "epoch: 501/1000\n",
      "epoch: 601/1000\n",
      "epoch: 701/1000\n",
      "epoch: 801/1000\n",
      "epoch: 901/1000\n",
      "epoch: 1000/1000\n",
      "accuracy train: 0.9245\n",
      "accuracy test: 0.943\n"
     ]
    },
    {
     "data": {
      "image/png": "[encoded data removed]",
      "text/plain": [
       "<Figure size 432x288 with 1 Axes>"
      ]
     },
     "metadata": {
      "needs_background": "light"
     },
     "output_type": "display_data"
    }
   ],
   "source": [
    "np.random.seed(42)\n",
    "model = Model()\n",
    "model.add_layer((2, 8), activation_function='ReLU')\n",
    "model.add_layer((8, 8), activation_function='ReLU')\n",
    "model.add_layer((8, 8), activation_function='ReLU')\n",
    "model.add_layer((8, 2), activation_function='sigmoid', is_output_layer=True)\n",
    "learning_rate = 0.00009\n",
    "n_epoch = 1000\n",
    "\n",
    "model.fit(train_X, train_y_onehot, n_epoch, learning_rate)\n",
    "print('accuracy train:', model.predict(train_X, train_y))\n",
    "print('accuracy test:', model.predict(test_X, test_y, show_function))\n",
    "\n",
    "\n"
   ]
  }
 ],
 "metadata": {
  "interpreter": {
   "hash": "9bd3f6a68abef03cab69b94fbc16e063b78af0a888380513e0eeab6a48bed6be"
  },
  "kernelspec": {
   "display_name": "Python 3 (ipykernel)",
   "language": "python",
   "name": "python3"
  },
  "language_info": {
   "codemirror_mode": {
    "name": "ipython",
    "version": 3
   },
   "file_extension": ".py",
   "mimetype": "text/x-python",
   "name": "python",
   "nbconvert_exporter": "python",
   "pygments_lexer": "ipython3",
   "version": "3.8.10"
  },
  "orig_nbformat": 4
 },
 "nbformat": 4,
 "nbformat_minor": 2
}
